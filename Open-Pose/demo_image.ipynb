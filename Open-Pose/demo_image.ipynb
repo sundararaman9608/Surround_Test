{
 "cells": [
  {
   "cell_type": "code",
   "execution_count": 1,
   "metadata": {},
   "outputs": [
    {
     "name": "stderr",
     "output_type": "stream",
     "text": [
      "Using TensorFlow backend.\n",
      "usage: ipykernel_launcher.py [-h] --image IMAGE [--output OUTPUT]\n",
      "                             [--model MODEL]\n",
      "ipykernel_launcher.py: error: the following arguments are required: --image\n"
     ]
    },
    {
     "ename": "SystemExit",
     "evalue": "2",
     "output_type": "error",
     "traceback": [
      "An exception has occurred, use %tb to see the full traceback.\n",
      "\u001b[1;31mSystemExit\u001b[0m\u001b[1;31m:\u001b[0m 2\n"
     ]
    },
    {
     "name": "stderr",
     "output_type": "stream",
     "text": [
      "C:\\Users\\DELL\\Anaconda3\\lib\\site-packages\\IPython\\core\\interactiveshell.py:3304: UserWarning: To exit: use 'exit', 'quit', or Ctrl-D.\n",
      "  warn(\"To exit: use 'exit', 'quit', or Ctrl-D.\", stacklevel=1)\n"
     ]
    }
   ],
   "source": [
    "import argparse\n",
    "import time\n",
    "\n",
    "import cv2\n",
    "\n",
    "from processing import extract_parts, draw\n",
    "\n",
    "from config_reader import config_reader\n",
    "from model.cmu_model import get_testing_model\n",
    "\n",
    "if __name__ == '__main__':\n",
    "    parser = argparse.ArgumentParser()\n",
    "    parser.add_argument('--image', type=str, required=True, help='input image')\n",
    "    parser.add_argument('--output', type=str, default='result.png', help='output image')\n",
    "    parser.add_argument('--model', type=str, default='model/keras/model.h5', help='path to the weights file')\n",
    "\n",
    "    args = parser.parse_args()\n",
    "    image_path = args.image\n",
    "    output = args.output\n",
    "    keras_weights_file = args.model\n",
    "\n",
    "    tic = time.time()\n",
    "    print('start processing...')\n",
    "\n",
    "    # load model\n",
    "\n",
    "    # authors of original model don't use\n",
    "    # vgg normalization (subtracting mean) on input images\n",
    "    model = get_testing_model()\n",
    "    model.load_weights(keras_weights_file)\n",
    "\n",
    "    # load config\n",
    "    params, model_params = config_reader()\n",
    "    \n",
    "    input_image = cv2.imread(image_path)  # B,G,R order\n",
    "    \n",
    "    all_peaks, subset, candidate = extract_parts(input_image, params, model, model_params)\n",
    "    canvas = draw(input_image, all_peaks, subset, candidate)\n",
    "    \n",
    "    toc = time.time()\n",
    "    print('processing time is %.5f' % (toc - tic))\n",
    "\n",
    "    cv2.imwrite(output, canvas)\n",
    "\n",
    "    cv2.destroyAllWindows()\n",
    "\n",
    "\n",
    "\n"
   ]
  },
  {
   "cell_type": "code",
   "execution_count": null,
   "metadata": {},
   "outputs": [],
   "source": []
  }
 ],
 "metadata": {
  "kernelspec": {
   "display_name": "Python 3",
   "language": "python",
   "name": "python3"
  },
  "language_info": {
   "codemirror_mode": {
    "name": "ipython",
    "version": 3
   },
   "file_extension": ".py",
   "mimetype": "text/x-python",
   "name": "python",
   "nbconvert_exporter": "python",
   "pygments_lexer": "ipython3",
   "version": "3.7.3"
  }
 },
 "nbformat": 4,
 "nbformat_minor": 2
}
