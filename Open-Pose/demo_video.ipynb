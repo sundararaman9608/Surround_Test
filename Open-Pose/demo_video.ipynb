{
 "cells": [
  {
   "cell_type": "code",
   "execution_count": null,
   "metadata": {},
   "outputs": [],
   "source": [
    "!pip install opencv-contrib-python"
   ]
  },
  {
   "cell_type": "code",
   "execution_count": null,
   "metadata": {},
   "outputs": [],
   "source": [
    "! pip3 install imutils"
   ]
  },
  {
   "cell_type": "code",
   "execution_count": null,
   "metadata": {},
   "outputs": [],
   "source": [
    "! pip3 install easydict"
   ]
  },
  {
   "cell_type": "code",
   "execution_count": null,
   "metadata": {},
   "outputs": [],
   "source": [
    "from imutils.video import VideoStream\n",
    "from imutils.video import FPS\n",
    "import numpy as np\n",
    "import argparse\n",
    "import imutils\n",
    "import time\n",
    "import cv2\n",
    "import os\n",
    "import sys\n",
    "from config_reader import config_reader\n",
    "from processing import extract_parts, draw\n",
    "from model.cmu_model import get_testing_model"
   ]
  },
  {
   "cell_type": "code",
   "execution_count": null,
   "metadata": {},
   "outputs": [],
   "source": [
    "from easydict import EasyDict as edict"
   ]
  },
  {
   "cell_type": "code",
   "execution_count": null,
   "metadata": {},
   "outputs": [],
   "source": [
    "args = edict({\n",
    "    \n",
    "    \"--prototxt\": 'model/keras/model.h5',\n",
    "    \"--model\": 'training/train_pose',\n",
    "    \"--confidence\": 0.2,\n",
    "    \"--process_speed\": 3,\n",
    "    \"--end\": 80,\n",
    "    '--frame_ratio':518400    \n",
    "    \n",
    "})\n",
    "\n",
    "process_speed=args\n",
    "ending_frame=args\n",
    "\n",
    "\n",
    "\n"
   ]
  },
  {
   "cell_type": "code",
   "execution_count": null,
   "metadata": {},
   "outputs": [],
   "source": [
    "print(\"loading model...\")\n",
    "from model.cmu_model import get_testing_model\n",
    "model = get_testing_model()\n",
    "model.load_weights('model/keras/model.h5')\n",
    "\n"
   ]
  },
  {
   "cell_type": "code",
   "execution_count": null,
   "metadata": {},
   "outputs": [],
   "source": [
    "#setting path for video output\n",
    "\n",
    "# Video output\n",
    "video = 'sample1_test5.mp4'\n",
    "video_path = 'videos/outputs'\n",
    "video_file = video_path + video\n",
    "\n",
    "# Output location\n",
    "output_path = 'videos/outputs/'\n",
    "output_format = '.mp4'\n",
    "\n",
    "#timestamp\n",
    "currentDT = time.localtime()\n",
    "start_datetime = time.strftime(\"-%m-%d-%H-%M-%S\", currentDT)\n",
    "\n",
    "#video path for output\n",
    "video_output = output_path + video + str(start_datetime) + output_format\n"
   ]
  },
  {
   "cell_type": "code",
   "execution_count": null,
   "metadata": {},
   "outputs": [],
   "source": [
    "#input video\n",
    "\n",
    "# loading video\n",
    "#cam has the input video\n",
    "cam = cv2.VideoCapture('videos/sample2.mp4')\n",
    "\n",
    "a=cam.get(cv2.CAP_PROP_FRAME_WIDTH)\n",
    "print(a)\n",
    "b=cam.get(cv2.CAP_PROP_FRAME_HEIGHT)\n",
    "print(b)\n",
    "input_fps = cam.get(cv2.CAP_PROP_FPS)\n",
    "print(input_fps)\n",
    "\n",
    "ret,frame=cam.read()\n",
    "print(ret)\n",
    "\n",
    "print(cam.read())\n",
    "\n",
    "\n",
    "\n",
    "\n",
    "#reading the video file\n",
    "ret_val,orig_video = cam.read()\n",
    "#print(ret_val)\n",
    "video_length = int(cam.get(cv2.CAP_PROP_FRAME_COUNT))\n",
    "print(video_length)\n",
    "\n",
    "#ending fram is the length of the video\n",
    "#which will be the last frame\n",
    "ending_frame = 80\n",
    "\n",
    "\n",
    "\n",
    "output_fps = 29.97/518400\n",
    "\n",
    "#video writer\n",
    "#input frames in the video, we use videowriter from opencv\n",
    "fourcc = cv2.VideoWriter_fourcc(*'mp4v')\n",
    "out = cv2.VideoWriter(video_output, fourcc,  output_fps, (orig_video.shape[1], orig_video.shape[0]))\n",
    "print(out)\n"
   ]
  },
  {
   "cell_type": "code",
   "execution_count": null,
   "metadata": {},
   "outputs": [],
   "source": [
    "# load config\n",
    "params, model_params = config_reader()\n",
    "scale_search = [1, .5, 1.5, 2]  # [.5, 1, 1.5, 2]\n",
    "scale_search = scale_search[0:4]\n",
    "\n",
    "params['scale_search'] = scale_search\n",
    "\n"
   ]
  },
  {
   "cell_type": "code",
   "execution_count": null,
   "metadata": {},
   "outputs": [],
   "source": [
    "\n",
    "i = 0  # default is 0\n",
    "while(cam.isOpened()) and ret_val is True and i < ending_frame:\n",
    "        if i % 1 == 0:\n",
    "\n",
    "            #applying colour to the input video file \n",
    "            input_video_colour = cv2.cvtColor(orig_video, cv2.COLOR_RGB2BGR)\n",
    "           # print(input_video_colour)\n",
    "\n",
    "            tic = time.time()\n",
    "\n",
    "            # detecting the body parts in the image\n",
    "            all_peaks, subset, candidate = extract_parts(input_video_colour, params, model, model_params)\n",
    "            canvas = draw(orig_video, all_peaks, subset, candidate)\n",
    "\n",
    "            print('Processing frame: ', i)\n",
    "            toc = time.time()\n",
    "            print('processing time is %.5f' % (toc - tic))\n",
    "\n",
    "            out.write(canvas)\n",
    "            #print(out)\n",
    "            \n",
    "           \n",
    "            ret_val, orig_video = cam.read()\n",
    "            i += 1"
   ]
  },
  {
   "cell_type": "code",
   "execution_count": null,
   "metadata": {},
   "outputs": [],
   "source": []
  },
  {
   "cell_type": "code",
   "execution_count": null,
   "metadata": {},
   "outputs": [],
   "source": []
  }
 ],
 "metadata": {
  "kernelspec": {
   "display_name": "Python 3",
   "language": "python",
   "name": "python3"
  },
  "language_info": {
   "codemirror_mode": {
    "name": "ipython",
    "version": 3
   },
   "file_extension": ".py",
   "mimetype": "text/x-python",
   "name": "python",
   "nbconvert_exporter": "python",
   "pygments_lexer": "ipython3",
   "version": "3.7.3"
  }
 },
 "nbformat": 4,
 "nbformat_minor": 2
}
